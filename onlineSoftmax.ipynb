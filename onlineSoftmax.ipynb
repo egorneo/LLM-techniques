{
  "nbformat": 4,
  "nbformat_minor": 0,
  "metadata": {
    "colab": {
      "provenance": []
    },
    "kernelspec": {
      "name": "python3",
      "display_name": "Python 3"
    },
    "language_info": {
      "name": "python"
    }
  },
  "cells": [
    {
      "cell_type": "markdown",
      "source": [
        "# Naive Sotmax\n"
      ],
      "metadata": {
        "id": "ZXHR4QL-bW3P"
      }
    },
    {
      "cell_type": "code",
      "source": [
        "import numpy as np"
      ],
      "metadata": {
        "id": "UsdHZLREbY6y"
      },
      "execution_count": 1,
      "outputs": []
    },
    {
      "cell_type": "code",
      "source": [
        "def naive_softmax(x):\n",
        "  x = np.array(x)\n",
        "  return np.exp(x)/sum(np.exp(x))"
      ],
      "metadata": {
        "id": "gg3ZNV19biYq"
      },
      "execution_count": 2,
      "outputs": []
    },
    {
      "cell_type": "code",
      "source": [
        "ans = naive_softmax([2,3,5,2,4,0,-1,2])\n",
        "assert sum(ans) == 1"
      ],
      "metadata": {
        "id": "fLvk9O1Rb6gN"
      },
      "execution_count": 3,
      "outputs": []
    },
    {
      "cell_type": "markdown",
      "source": [
        "# Normalized Softmax"
      ],
      "metadata": {
        "id": "7nbG1XLmcRaG"
      }
    },
    {
      "cell_type": "code",
      "source": [
        "def normal_softmax(x):\n",
        "  x = np.array(x)\n",
        "  y = np.exp(x-np.max(x))\n",
        "  return y/sum(y)"
      ],
      "metadata": {
        "id": "ZK9ehEQlcCap"
      },
      "execution_count": 4,
      "outputs": []
    },
    {
      "cell_type": "code",
      "source": [
        "ans_norm = naive_softmax([2,3,5,2,4,0,-1,2])\n",
        "assert sum(ans_norm) == 1\n",
        "assert np.all(ans == ans_norm)"
      ],
      "metadata": {
        "id": "cRdqfNN7clxN"
      },
      "execution_count": 5,
      "outputs": []
    },
    {
      "cell_type": "markdown",
      "source": [
        "# Online Softmax\n",
        "\n",
        "- Calculating $\\max{x_i}$ in one pass as always\n",
        "- **Calculating Normalization term in one pass!**"
      ],
      "metadata": {
        "id": "f_FjKuAcdJNY"
      }
    },
    {
      "cell_type": "code",
      "source": [
        "def online_softmax(x):\n",
        "  x = np.array(x)\n",
        "  M0 = -np.inf\n",
        "  M1 = -np.inf\n",
        "  d = 0\n",
        "  for i in range(len(x)):\n",
        "    M1, M0 = max(M1,x[i]), M1\n",
        "    d = d*np.exp(M0-M1) + np.exp(x[i]-M1)\n",
        "  assert (M1 == max(x))\n",
        "  print(M1, d)\n",
        "  return np.exp(x - M1)/d"
      ],
      "metadata": {
        "id": "H-t7yxYTcu7g"
      },
      "execution_count": 9,
      "outputs": []
    },
    {
      "cell_type": "code",
      "source": [
        "ans_online = online_softmax([2,3,5,2,4,0,-1,2])\n",
        "assert np.abs(sum(ans_online) - 1) < 1e-10\n",
        "assert np.all(np.abs(ans - ans_online) < 1e-10)"
      ],
      "metadata": {
        "id": "W5MYMO8dcywv",
        "colab": {
          "base_uri": "https://localhost:8080/"
        },
        "outputId": "7f4b1eb0-36ad-448b-f3f6-d8df0d50e064"
      },
      "execution_count": 10,
      "outputs": [
        {
          "output_type": "stream",
          "name": "stdout",
          "text": [
            "5 1.6617926286873983\n"
          ]
        }
      ]
    },
    {
      "cell_type": "markdown",
      "source": [
        "# Sotmax operation\n",
        "\n"
      ],
      "metadata": {
        "id": "_9FSvQsNF_ZA"
      }
    },
    {
      "cell_type": "code",
      "source": [
        "class MaxNorm:\n",
        "  def __init__(self, m, d):\n",
        "    self.m = m\n",
        "    self.d = d\n",
        "  def __add__(self, mn):\n",
        "    return MaxNorm(max(self.m,mn.m), self.d*np.exp(self.m-max(self.m,mn.m)) + mn.d*np.exp(mn.m-max(self.m,mn.m)))\n",
        "\n"
      ],
      "metadata": {
        "id": "OetoQg42fyL4"
      },
      "execution_count": 17,
      "outputs": []
    },
    {
      "cell_type": "code",
      "source": [
        "v = np.array([2,3,5,2,4,0,-1,2])\n",
        "x = MaxNorm(v[0],1)\n",
        "for i in range(1,len(v)):\n",
        "  x = x + MaxNorm(v[i],1)\n",
        "\n",
        "assert x.m == 5 and x.d == 1.6617926286873983\n"
      ],
      "metadata": {
        "id": "hMXAzhlPGz6V"
      },
      "execution_count": 20,
      "outputs": []
    },
    {
      "cell_type": "code",
      "source": [],
      "metadata": {
        "id": "gupNl97GHSGE"
      },
      "execution_count": null,
      "outputs": []
    }
  ]
}