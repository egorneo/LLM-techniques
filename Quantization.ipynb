{
  "nbformat": 4,
  "nbformat_minor": 0,
  "metadata": {
    "colab": {
      "provenance": [],
      "authorship_tag": "ABX9TyMYcuFaUZ24QmfdGymQpL4h",
      "include_colab_link": true
    },
    "kernelspec": {
      "name": "python3",
      "display_name": "Python 3"
    },
    "language_info": {
      "name": "python"
    }
  },
  "cells": [
    {
      "cell_type": "markdown",
      "metadata": {
        "id": "view-in-github",
        "colab_type": "text"
      },
      "source": [
        "<a href=\"https://colab.research.google.com/github/egorneo/LLM-techniques/blob/main/Quantization.ipynb\" target=\"_parent\"><img src=\"https://colab.research.google.com/assets/colab-badge.svg\" alt=\"Open In Colab\"/></a>"
      ]
    },
    {
      "cell_type": "markdown",
      "source": [
        "## Plain linear quantizer"
      ],
      "metadata": {
        "id": "8xnpAZjukCON"
      }
    },
    {
      "cell_type": "markdown",
      "source": [
        "$r = s(q-z)$\n",
        "Where r is initial tensor(its component), q - quantized tensor, s - some multiplier, z - zero point.\n",
        "\n",
        "$\\frac{r}{s} = q - z$\n",
        "\n",
        "\n",
        "\n"
      ],
      "metadata": {
        "id": "7xYFjS8skYQW"
      }
    },
    {
      "cell_type": "code",
      "source": [
        "import torch"
      ],
      "metadata": {
        "id": "08zu3QQelKRx"
      },
      "execution_count": 1,
      "outputs": []
    },
    {
      "cell_type": "code",
      "execution_count": 49,
      "metadata": {
        "colab": {
          "base_uri": "https://localhost:8080/"
        },
        "id": "y5SexeUpkBjk",
        "outputId": "a94bab1f-8030-4942-9113-aeba5f94dfa8"
      },
      "outputs": [
        {
          "output_type": "stream",
          "name": "stdout",
          "text": [
            "tensor([[ 191.6000,  -13.5000,  728.6000],\n",
            "        [  92.1400,  295.5000, -184.0000],\n",
            "        [   0.0000,  684.6000,  245.5000]])\n",
            "tensor([[ -15.,  -74.,  138.],\n",
            "        [ -44.,   14., -123.],\n",
            "        [ -70.,  126.,    0.]])\n"
          ]
        }
      ],
      "source": [
        "def linear_quantizer(tensor, s, z):\n",
        "  tensor = tensor/s + z\n",
        "  tensor = torch.round(tensor)\n",
        "  print(tensor)\n",
        "  tensor = torch.clamp(tensor, min = -128, max = 127)\n",
        "  return tensor.to(torch.int8)\n",
        "\n",
        "dummy_tensor = torch.tensor(\n",
        "    [[191.6, -13.5, 728.6],\n",
        "     [92.14, 295.5,  -184],\n",
        "     [0,     684.6, 245.5]]\n",
        ")\n",
        "print(dummy_tensor)\n",
        "quantized = linear_quantizer(dummy_tensor, 3.5, -70)"
      ]
    },
    {
      "cell_type": "code",
      "source": [
        "def linear_dequantizer(tensor, s, z):\n",
        "  return s*(tensor.float() - z)\n",
        "\n",
        "dequantized = linear_dequantizer(quantized, 3.5, -70)\n",
        "print(f\"Initial tensor: \\n {dummy_tensor} \\n \\nDequantized tensor: \\n {dequantized}\")\n",
        "\n",
        "torch.norm(dummy_tensor - dequantized)"
      ],
      "metadata": {
        "colab": {
          "base_uri": "https://localhost:8080/"
        },
        "id": "1PHbfxBYoz9X",
        "outputId": "f3044e06-39dc-407f-fdce-31b360519d79"
      },
      "execution_count": 51,
      "outputs": [
        {
          "output_type": "stream",
          "name": "stdout",
          "text": [
            "Initial tensor: \n",
            " tensor([[ 191.6000,  -13.5000,  728.6000],\n",
            "        [  92.1400,  295.5000, -184.0000],\n",
            "        [   0.0000,  684.6000,  245.5000]]) \n",
            " \n",
            "Dequantized tensor: \n",
            " tensor([[ 192.5000,  -14.0000,  689.5000],\n",
            "        [  91.0000,  294.0000, -185.5000],\n",
            "        [   0.0000,  686.0000,  245.0000]])\n"
          ]
        },
        {
          "output_type": "execute_result",
          "data": {
            "text/plain": [
              "tensor(39.2158)"
            ]
          },
          "metadata": {},
          "execution_count": 51
        }
      ]
    },
    {
      "cell_type": "markdown",
      "source": [
        "Naive approach with max"
      ],
      "metadata": {
        "id": "S0ZtT8kJo1Ex"
      }
    },
    {
      "cell_type": "code",
      "source": [
        "norm = dummy_tensor.abs().max()\n",
        "print(norm)\n",
        "quantized = torch.round(dummy_tensor/norm*(255)).to(torch.int8)\n",
        "print(quantized)\n",
        "dequantized = quantized.float()/255*norm\n",
        "print(dequantized)\n",
        "torch.norm(dummy_tensor - dequantized)"
      ],
      "metadata": {
        "colab": {
          "base_uri": "https://localhost:8080/"
        },
        "id": "qrVnLKM6mORM",
        "outputId": "3844b9a9-1c0c-412d-ff2e-b9db4a6f1261"
      },
      "execution_count": 47,
      "outputs": [
        {
          "output_type": "stream",
          "name": "stdout",
          "text": [
            "tensor(728.6000)\n",
            "tensor([[ 67,  -5,  -1],\n",
            "        [ 32, 103, -64],\n",
            "        [  0, -16,  86]], dtype=torch.int8)\n",
            "tensor([[ 191.4361,  -14.2863,   -2.8573],\n",
            "        [  91.4322,  294.2972, -182.8643],\n",
            "        [   0.0000,  -45.7161,  245.7239]])\n"
          ]
        },
        {
          "output_type": "execute_result",
          "data": {
            "text/plain": [
              "tensor(1033.6320)"
            ]
          },
          "metadata": {},
          "execution_count": 47
        }
      ]
    },
    {
      "cell_type": "code",
      "source": [],
      "metadata": {
        "id": "JANWK2p3o9Kn"
      },
      "execution_count": null,
      "outputs": []
    }
  ]
}